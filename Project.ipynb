{
 "cells": [
  {
   "cell_type": "markdown",
   "id": "c761f9af-3a3e-43ef-be59-60a06d9d1171",
   "metadata": {
    "tags": []
   },
   "source": [
    "# Importing packages"
   ]
  },
  {
   "cell_type": "code",
   "execution_count": null,
   "id": "4b9dedda-b7ad-44c6-b61f-ebce46990e37",
   "metadata": {},
   "outputs": [],
   "source": [
    "#Importing packages\n",
    "import numpy as np\n",
    "import pandas as pd\n",
    "import matplotlib.pyplot as plt\n",
    "import seaborn as sns\n",
    "import requests"
   ]
  },
  {
   "cell_type": "code",
   "execution_count": null,
   "id": "f7554a92-3461-4338-9231-7cb85c9351cb",
   "metadata": {},
   "outputs": [],
   "source": [
    "#Checking for current directory\n",
    "import os\n",
    "os.getcwd()"
   ]
  },
  {
   "cell_type": "markdown",
   "id": "b1cf0d53-da5e-4840-a8e4-561366506d2f",
   "metadata": {
    "tags": []
   },
   "source": [
    "## Importing dataframes from csv, checking info and merging"
   ]
  },
  {
   "cell_type": "code",
   "execution_count": null,
   "id": "b1a21dbb-b0b5-4fef-b662-7d851e0cd318",
   "metadata": {},
   "outputs": [],
   "source": [
    "#Creating dataframe out of csv dataset and setting first column \"Rank\" as the row index\n",
    "gaming_data = pd.read_csv(\"vgsales.csv\")"
   ]
  },
  {
   "cell_type": "code",
   "execution_count": null,
   "id": "4f457a5c-80f7-4b9c-8cfa-f280088ab81e",
   "metadata": {},
   "outputs": [],
   "source": [
    "#Identifying amount of entries, columns, memory usage and data types\n",
    "gaming_data.info()"
   ]
  },
  {
   "cell_type": "code",
   "execution_count": null,
   "id": "657095ed-1388-472e-af54-a5c038d40c08",
   "metadata": {},
   "outputs": [],
   "source": [
    "#Checking for missing values\n",
    "gaming_data.isnull().sum()"
   ]
  },
  {
   "cell_type": "code",
   "execution_count": null,
   "id": "6d3f7bc2-1dff-44a7-81a2-e75b6b5b96e9",
   "metadata": {},
   "outputs": [],
   "source": [
    "#Checking the first 5 and last 5 values of the dataframe\n",
    "gaming_data"
   ]
  },
  {
   "cell_type": "code",
   "execution_count": null,
   "id": "de7aa6ce-0380-4ae1-be4c-b4c3d1125a87",
   "metadata": {},
   "outputs": [],
   "source": [
    "#After noticing several missing values, I have decided to drop the rows with missing values\n",
    "gaming_data = gaming_data.dropna()"
   ]
  },
  {
   "cell_type": "code",
   "execution_count": null,
   "id": "aef9e42b-9c82-401e-85e8-7b538c93c16e",
   "metadata": {},
   "outputs": [],
   "source": [
    "#Importing second dataframe and merging dataframes \n",
    "gaming_scores = pd.read_csv(\"Video_Games_Scores.csv\")\n",
    "merged_gaming_data = pd.merge(gaming_data,gaming_scores,on=\"Name\")"
   ]
  },
  {
   "cell_type": "code",
   "execution_count": null,
   "id": "24d1352f-e68a-44dc-abf9-4c478ccb6b1b",
   "metadata": {},
   "outputs": [],
   "source": [
    "#Checking for header names\n",
    "print(merged_gaming_data.columns)"
   ]
  },
  {
   "cell_type": "code",
   "execution_count": null,
   "id": "7c9c4665-7bb8-447a-8a1f-3a945a560708",
   "metadata": {},
   "outputs": [],
   "source": [
    "#Cleaning up merged dataframe\n",
    "merged_gaming_data = merged_gaming_data.rename(columns={\"Platform_x\": \"Platform\", \"Genre_x\": \"Genre\", \"Publisher_x\": \"Publisher\",\"Year_x\": \"Year\"})\n",
    "merged_gaming_data = merged_gaming_data.drop([\"Platform_y\", \"Year_y\", \"Genre_y\", \"Publisher_y\"], axis=1)\n",
    "merged_gaming_data = merged_gaming_data.dropna()\n",
    "merged_gaming_data"
   ]
  },
  {
   "cell_type": "markdown",
   "id": "dbcb8051-26e3-4bd5-bbdf-6122a8a2cfde",
   "metadata": {},
   "source": [
    "## Analysis"
   ]
  },
  {
   "cell_type": "code",
   "execution_count": null,
   "id": "1272aa4b-e956-4389-b96b-688b8329de01",
   "metadata": {},
   "outputs": [],
   "source": [
    "#Outputting top 25 grossing\n",
    "merged_gaming_data[0:25]"
   ]
  },
  {
   "cell_type": "code",
   "execution_count": null,
   "id": "f5e6d1dc-2182-4b01-9e65-977920e0e067",
   "metadata": {},
   "outputs": [],
   "source": [
    "#Selecting rows and colum for clearar view and top 25 games and their globals sales\n",
    "merged_gaming_data.loc[:25, [\"Name\",\"Global_Sales\"]]"
   ]
  },
  {
   "cell_type": "code",
   "execution_count": null,
   "id": "a703037e-4d56-4b42-9524-87717824fa8d",
   "metadata": {},
   "outputs": [],
   "source": [
    "#Identifying all unique gaming platforms within the dataframe\n",
    "merged_gaming_data[\"Platform\"].unique()"
   ]
  },
  {
   "cell_type": "code",
   "execution_count": null,
   "id": "6422454b-8fb7-4934-aaa9-4e8542b26fb0",
   "metadata": {},
   "outputs": [],
   "source": [
    "#Idenfifying all unique gaming genres within the dataframe\n",
    "merged_gaming_data[\"Genre\"].unique()"
   ]
  },
  {
   "cell_type": "code",
   "execution_count": null,
   "id": "6d30d0b9-9089-4026-bf41-52c5c4b4be65",
   "metadata": {},
   "outputs": [],
   "source": [
    "#Idenfifying all unique years within the dataframe\n",
    "arr_years = merged_gaming_data[\"Year\"].unique()\n",
    "arr_years"
   ]
  },
  {
   "cell_type": "code",
   "execution_count": null,
   "id": "01daad16-5122-4d3e-80d2-e19ba2b4db2f",
   "metadata": {},
   "outputs": [],
   "source": [
    "#Sorting years in ascending fashion\n",
    "arr_years.sort()\n",
    "arr_years"
   ]
  },
  {
   "cell_type": "code",
   "execution_count": null,
   "id": "18d84fb5-bf8f-4c53-906f-bdf406a9b037",
   "metadata": {},
   "outputs": [],
   "source": [
    "#Turned Year column to int and filtered an output games between year 2000 and 2016\n",
    "merged_gaming_data[\"Year\"] = merged_gaming_data[\"Year\"].astype(int)\n",
    "filter_years = merged_gaming_data[(merged_gaming_data[\"Year\"] >= 2000) & (merged_gaming_data[\"Year\"] <= 2016)]\n",
    "filter_years"
   ]
  },
  {
   "cell_type": "code",
   "execution_count": null,
   "id": "a5c38478-89f6-483c-8a46-ea92c36d805b",
   "metadata": {},
   "outputs": [],
   "source": [
    "#Idenfifying all unique publishers within the dataframe and sorting them by alphabet\n",
    "unique_publishers = merged_gaming_data[\"Publisher\"].unique()\n",
    "unique_publishers = np.sort(unique_publishers)\n",
    "print(unique_publishers)"
   ]
  },
  {
   "cell_type": "code",
   "execution_count": null,
   "id": "ff800180-bd00-4d05-980d-07a655d4a365",
   "metadata": {},
   "outputs": [],
   "source": [
    "#Counting the historical amount of games per publisher\n",
    "game_count_by_publisher = merged_gaming_data[\"Publisher\"].value_counts()\n",
    "print(game_count_by_publisher)"
   ]
  },
  {
   "cell_type": "code",
   "execution_count": null,
   "id": "4c718491-fcf9-45cc-8fce-51f8c1fd14b9",
   "metadata": {},
   "outputs": [],
   "source": [
    "#Defining a valiable to store 25 top publishers and outputting on a pie chart the % of all games per publisher\n",
    "publisher_percent = merged_gaming_data[\"Publisher\"].value_counts(normalize=True).sort_values(ascending=False)\n",
    "top_25_publishers = publisher_percent.head(25)\n",
    "plt.pie(top_25_publishers, labels=top_25_publishers.index, autopct=\"%1.1f%%\")\n",
    "plt.title(\"Top 25 Publishers by Game Percentage\")\n",
    "plt.show()"
   ]
  },
  {
   "cell_type": "code",
   "execution_count": null,
   "id": "84f81107-ced6-45e6-a5b6-54c03710c7c3",
   "metadata": {},
   "outputs": [],
   "source": [
    "#Identifying top 25 platforms game count\n",
    "top_platforms = merged_gaming_data.Platform.value_counts().head(25)\n",
    "pd.DataFrame(top_platforms)"
   ]
  },
  {
   "cell_type": "code",
   "execution_count": null,
   "id": "94902305-cf32-4758-af33-2496bb011f76",
   "metadata": {},
   "outputs": [],
   "source": [
    "#Assigning console type to each console through dictionary\n",
    "platform_type = {\n",
    " \"Wii\" : \"console\", \"NES\" : \"console\", \"GB\" : \"handheld\", \"DS\" : \"handheld\", \"X360\" : \"console\",\n",
    " \"PS3\" : \"console\", \"PS2\" : \"console\", \"SNES\" : \"console\", \"GBA\" : \"handheld\", \"3DS\" : \"handheld\",\n",
    " \"PS4\" : \"console\", \"N64\" : \"console\", \"PS\" : \"console\", \"XB\" : \"console\", \"PC\": \"PC\", \"2600\": \"console\",\n",
    " \"PSP\" : \"handheld\", \"XOne\" : \"console\", \"GC\" : \"console\", \"WiiU\" : \"console\", \"GEN\": \"console\",\n",
    " \"DC\": \"console\", \"PSV\": \"handheld\", \"SAT\": \"console\", \"SCD\" : \"console\", \"WS\" : \"handheld\",\n",
    " \"NG\" : \"console\", \"TG16\": \"console\", \"3DO\": \"console\", \"GG\": \"handheld\", \"PCFX\": \"console\"}"
   ]
  },
  {
   "cell_type": "code",
   "execution_count": null,
   "id": "d7421209-80a5-4ab6-b419-e76430bb9de1",
   "metadata": {},
   "outputs": [],
   "source": [
    "#Created new column Platform_Type and mapped it to dataframe\n",
    "merged_gaming_data[\"Platform_Type\"] = merged_gaming_data[\"Platform\"].map(lambda x: platform_type[x])"
   ]
  },
  {
   "cell_type": "code",
   "execution_count": null,
   "id": "8a74af14-60c9-45be-bbcb-02aeccdbe61f",
   "metadata": {},
   "outputs": [],
   "source": [
    "#Assigning new position to Platform_Type column to be near Platform column\n",
    "columns = merged_gaming_data.columns.tolist()\n",
    "platform_type_old_position = columns.index(\"Platform_Type\")\n",
    "platform_type_new_position = 3\n",
    "columns.pop(platform_type_old_position)\n",
    "columns.insert(platform_type_new_position, \"Platform_Type\")\n",
    "merged_gaming_data = merged_gaming_data.reindex(columns=columns)"
   ]
  },
  {
   "cell_type": "code",
   "execution_count": null,
   "id": "cddb9fbe-a4b1-44c6-895e-75fab679a368",
   "metadata": {},
   "outputs": [],
   "source": [
    "#Counting overall games per platform\n",
    "count_of_platform_games = merged_gaming_data[\"Platform_Type\"].value_counts()\n",
    "count_of_platform_games"
   ]
  },
  {
   "cell_type": "code",
   "execution_count": null,
   "id": "f55cc8e1-9e7f-4ffd-bb8e-3919004c64c4",
   "metadata": {},
   "outputs": [],
   "source": [
    "#Showing games per platform on a graph\n",
    "plt.bar(count_of_platform_games.index, count_of_platform_games)"
   ]
  },
  {
   "cell_type": "code",
   "execution_count": null,
   "id": "964144a2-dbb5-4655-bd28-1bbbb1e6d759",
   "metadata": {},
   "outputs": [],
   "source": [
    "#Created a count plot to see platform type leader of sales in millions over the years\n",
    "fig, ax = plt.subplots(figsize=(15,8))\n",
    "sns.countplot(data=merged_gaming_data, x=\"Year\", hue=\"Platform_Type\")"
   ]
  },
  {
   "cell_type": "code",
   "execution_count": null,
   "id": "001d07cd-7be5-49a7-a557-86063107c682",
   "metadata": {},
   "outputs": [],
   "source": [
    "#Identifying top 25 genres game count\n",
    "top_genres = merged_gaming_data.Genre.value_counts().head(25)\n",
    "pd.DataFrame(top_genres)"
   ]
  },
  {
   "cell_type": "code",
   "execution_count": null,
   "id": "40e6c1a8-3ee7-4d93-a0bc-76f7bb5dc859",
   "metadata": {},
   "outputs": [],
   "source": [
    "#Created a pairplot to visualise game genres against other variables in the dataset\n",
    "sns.pairplot(merged_gaming_data, hue=\"Genre\")"
   ]
  },
  {
   "cell_type": "code",
   "execution_count": null,
   "id": "a414f4a7-480b-4e8e-9871-bbd2b8cd9119",
   "metadata": {},
   "outputs": [],
   "source": [
    "#Identifying top 25 publishers game count and output as dataframe\n",
    "top_publishers = merged_gaming_data[[\"Publisher\", \"Rank\"]].groupby(\"Publisher\").count().sort_values(\"Rank\", ascending=False).head(25)\n",
    "pd.DataFrame(top_publishers)"
   ]
  },
  {
   "cell_type": "code",
   "execution_count": null,
   "id": "08d3b667-1627-4fe4-80e7-510a152ecc36",
   "metadata": {},
   "outputs": [],
   "source": [
    "#Creating plot bar to represent top 25 publishers in descending manner\n",
    "top_publishers.plot.bar(title=\"Top 25 publisher games total\")"
   ]
  },
  {
   "cell_type": "code",
   "execution_count": null,
   "id": "64dbf355-2fc6-4c49-a04b-45fcd2f2d77e",
   "metadata": {},
   "outputs": [],
   "source": [
    "#Defining a custom function to \n",
    "def get_publisher_sales_EU(gaming_data, publisher):\n",
    "    return gaming_data[gaming_data[\"Publisher\"] == publisher][\"EU_Sales\"].sum()"
   ]
  },
  {
   "cell_type": "code",
   "execution_count": null,
   "id": "9d432687-e633-4a9d-ac00-cbdc19fdf2d9",
   "metadata": {},
   "outputs": [],
   "source": [
    "#Inserting the values into blank dictionary\n",
    "eu_publishers = gaming_data[\"Publisher\"].unique()\n",
    "total_eu_sales = {}"
   ]
  },
  {
   "cell_type": "code",
   "execution_count": null,
   "id": "63879e9f-1a11-4893-8e8c-f0f9e7b7d8e8",
   "metadata": {},
   "outputs": [],
   "source": [
    "#\n",
    "for publisher in eu_publishers:\n",
    "    total_eu_sales[publisher] = get_publisher_sales_EU(gaming_data, publisher)"
   ]
  },
  {
   "cell_type": "code",
   "execution_count": null,
   "id": "d9baefee-98fc-40aa-904a-379f2462c7c9",
   "metadata": {},
   "outputs": [],
   "source": [
    "#\n",
    "eu_df = pd.DataFrame.from_dict(total_eu_sales, orient=\"index\", columns=[\"Total EU Sales\"])\n",
    "eu_df = eu_df.sort_values(by=\"Total EU Sales\", ascending=False)\n",
    "print(eu_df.head(50))"
   ]
  }
 ],
 "metadata": {
  "kernelspec": {
   "display_name": "Python 3 (ipykernel)",
   "language": "python",
   "name": "python3"
  },
  "language_info": {
   "codemirror_mode": {
    "name": "ipython",
    "version": 3
   },
   "file_extension": ".py",
   "mimetype": "text/x-python",
   "name": "python",
   "nbconvert_exporter": "python",
   "pygments_lexer": "ipython3",
   "version": "3.9.6"
  }
 },
 "nbformat": 4,
 "nbformat_minor": 5
}
