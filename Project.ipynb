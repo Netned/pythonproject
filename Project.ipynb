{
 "cells": [
  {
   "cell_type": "code",
   "execution_count": 8,
   "id": "4b9dedda-b7ad-44c6-b61f-ebce46990e37",
   "metadata": {},
   "outputs": [],
   "source": [
    "#Importing packages\n",
    "import numpy as np\n",
    "import pandas as pd\n",
    "import matplotlib.pyplot as plt\n",
    "import seaborn as sns"
   ]
  },
  {
   "cell_type": "code",
   "execution_count": 9,
   "id": "f7554a92-3461-4338-9231-7cb85c9351cb",
   "metadata": {},
   "outputs": [
    {
     "data": {
      "text/plain": [
       "'/Users/dtendits/Downloads/Week 3 - DataFrames'"
      ]
     },
     "execution_count": 9,
     "metadata": {},
     "output_type": "execute_result"
    }
   ],
   "source": [
    "#Checking for current directory\n",
    "import os\n",
    "os.getcwd()"
   ]
  },
  {
   "cell_type": "code",
   "execution_count": null,
   "id": "b1a21dbb-b0b5-4fef-b662-7d851e0cd318",
   "metadata": {},
   "outputs": [],
   "source": [
    "#Creating dataframe variable by importing data from csv\n",
    "data = pd.read_csv(r\"\", header=None)"
   ]
  },
  {
   "cell_type": "code",
   "execution_count": null,
   "id": "6d3f7bc2-1dff-44a7-81a2-e75b6b5b96e9",
   "metadata": {},
   "outputs": [],
   "source": [
    "#Checking the top values of the dataset\n",
    "df.head()"
   ]
  },
  {
   "cell_type": "code",
   "execution_count": null,
   "id": "9c930220-5b57-4c80-a5a7-65c16308e29c",
   "metadata": {},
   "outputs": [],
   "source": []
  },
  {
   "cell_type": "code",
   "execution_count": null,
   "id": "657095ed-1388-472e-af54-a5c038d40c08",
   "metadata": {},
   "outputs": [],
   "source": []
  }
 ],
 "metadata": {
  "kernelspec": {
   "display_name": "Python 3 (ipykernel)",
   "language": "python",
   "name": "python3"
  },
  "language_info": {
   "codemirror_mode": {
    "name": "ipython",
    "version": 3
   },
   "file_extension": ".py",
   "mimetype": "text/x-python",
   "name": "python",
   "nbconvert_exporter": "python",
   "pygments_lexer": "ipython3",
   "version": "3.9.6"
  }
 },
 "nbformat": 4,
 "nbformat_minor": 5
}
